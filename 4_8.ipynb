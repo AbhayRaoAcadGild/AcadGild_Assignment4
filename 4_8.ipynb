{
 "cells": [
  {
   "cell_type": "markdown",
   "metadata": {},
   "source": [
    "# Assignment 4.8"
   ]
  },
  {
   "cell_type": "markdown",
   "metadata": {},
   "source": [
    "In one state, 52% of the voters are Republicans, and 48% are Democrats. In a second\n",
    "state, 47% of the voters are Republicans, and 53% are Democrats. Suppose a simple\n",
    "random sample of 100 voters are surveyed from each state.\n",
    "\n",
    "What is the probability that the survey will show a greater percentage of Republican\n",
    "voters in the second state than in the first state?"
   ]
  },
  {
   "cell_type": "markdown",
   "metadata": {},
   "source": [
    "<h2>Solution</h2>"
   ]
  },
  {
   "cell_type": "markdown",
   "metadata": {},
   "source": [
    "Let the proportions be modelled by a normal distribution<br>\n",
    "Thus, sample proportion P1 of republicans of state 1 is normally distributed <br>\n",
    "with &mu;<sub>1</sub> = 0.52, &sigma;<sub>1</sub> = &radic;(0.52(1-0.52)/100) = 0.0499\n",
    "\n",
    "Similarly,<br>\n",
    "Sample proportion P2 of republicans of state 2 is normally distributed <br>\n",
    "with &mu;<sub>2</sub> = 0.47, &sigma;<sub>2</sub> = &radic;(0.47(1-0.47)/100) = 0.0499\n",
    "\n",
    "The difference can be modelled with a normal distribution\n",
    "\n",
    "&mu;<sub>diff</sub> = &mu;<sub>1</sub> - &mu;<sub>2</sub> = 0.52 - 0.47 = 0.05\n",
    "\n",
    "&sigma;<sub>diff</sub> = &radic;(&sigma;<sub>1</sub><sup>2</sup> + &sigma;<sub>2</sub><sup>2</sup>) = 0.071\n",
    "\n",
    "P(greater percentage of republicans in second state than in first) = P(P_diff < 0)\n",
    "\n",
    "Converting to a standard normal distribution,<br>\n",
    "We require<br> \n",
    "P(Z < (0 - &mu;<sub>diff</sub>)/&sigma;<sub>diff</sub>)<br> \n",
    "                    = P(Z < -0.704) = 0.241 \n",
    "\n",
    "Thus, the probability that the survey will show a greater percentage of republican voters in the second state than in the first state is 0.241\n",
    "            \n"
   ]
  },
  {
   "cell_type": "code",
   "execution_count": null,
   "metadata": {},
   "outputs": [],
   "source": []
  }
 ],
 "metadata": {
  "kernelspec": {
   "display_name": "Python 3",
   "language": "python",
   "name": "python3"
  },
  "language_info": {
   "codemirror_mode": {
    "name": "ipython",
    "version": 3
   },
   "file_extension": ".py",
   "mimetype": "text/x-python",
   "name": "python",
   "nbconvert_exporter": "python",
   "pygments_lexer": "ipython3",
   "version": "3.5.4"
  }
 },
 "nbformat": 4,
 "nbformat_minor": 2
}
