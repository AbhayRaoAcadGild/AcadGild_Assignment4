{
 "cells": [
  {
   "cell_type": "markdown",
   "metadata": {},
   "source": [
    "# Assignment 4.7"
   ]
  },
  {
   "cell_type": "markdown",
   "metadata": {},
   "source": [
    "Blood glucose levels for obese patients have a mean of 100 with a standard deviation of 15. A researcher thinks that a diet high in raw cornstarch will have a positive effect on\n",
    "blood glucose levels. A sample of 36 patients who have tried the raw cornstarch diet\n",
    "have a mean glucose level of 108. Test the hypothesis that the raw cornstarch had an\n",
    "effect or not."
   ]
  },
  {
   "cell_type": "markdown",
   "metadata": {},
   "source": [
    "<h2>Solution</h2>"
   ]
  },
  {
   "cell_type": "markdown",
   "metadata": {},
   "source": [
    "The null hypothesis is as follows:\n",
    "    \n",
    "H0: &mu; = 100<br>\n",
    "H1: &mu; < 100\n",
    "\n",
    "We check the test statistic against the z at the assumed significance level<br>\n",
    "Let significance level be &alpha; = 0.05<br>\n",
    "    \n",
    "&mu; = 100<br>\n",
    "&sigma; = 15/&radic;36 = 15/6<br>\n",
    "Sample mean x~ = 108\n",
    "\n",
    "Therefore, \n",
    "test statistic = (x~ - &mu;)/&sigma; = 8/2.5 = 3.2<br>\n",
    "p-value at 3.2 = 0.5 + 0.4993 = 0.9993<br>\n",
    "\n",
    "Since 0.9993 > 0.95, we reject the null hypothesis<br>\n",
    "Thus. the raw cornstarch does have a positive effect."
   ]
  },
  {
   "cell_type": "code",
   "execution_count": null,
   "metadata": {},
   "outputs": [],
   "source": []
  }
 ],
 "metadata": {
  "kernelspec": {
   "display_name": "Python 3",
   "language": "python",
   "name": "python3"
  },
  "language_info": {
   "codemirror_mode": {
    "name": "ipython",
    "version": 3
   },
   "file_extension": ".py",
   "mimetype": "text/x-python",
   "name": "python",
   "nbconvert_exporter": "python",
   "pygments_lexer": "ipython3",
   "version": "3.5.4"
  }
 },
 "nbformat": 4,
 "nbformat_minor": 2
}
