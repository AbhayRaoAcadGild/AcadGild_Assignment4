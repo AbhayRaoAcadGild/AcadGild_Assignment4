{
 "cells": [
  {
   "cell_type": "markdown",
   "metadata": {},
   "source": [
    "# Assignment 4.6"
   ]
  },
  {
   "cell_type": "markdown",
   "metadata": {},
   "source": [
    "Two balls are drawn at random in succession without replacement from an urn\n",
    "containing 4 red balls and 6 black balls.<br>\n",
    "Find the probabilities of all the possible outcomes."
   ]
  },
  {
   "cell_type": "markdown",
   "metadata": {},
   "source": [
    "<h2>Solution</h2>"
   ]
  },
  {
   "cell_type": "markdown",
   "metadata": {},
   "source": [
    "Let a red ball be represented by x, and black ball by y\n",
    "\n",
    "    Both red balls, P(X = xx) = 4/10 * 3/9\n",
    "                              = 2/15\n",
    "    Both black balls, P(X = yy) = 6/10 * 5/9\n",
    "                                = 1/3\n",
    "    One red ball, one black ball P(X = xy) = 4/10 * 6/9\n",
    "                                           = 4/15\n",
    "    One black ball, one red ball P(X = yx) = 6/10 * 4/9\n",
    "                                           = 4/15"
   ]
  }
 ],
 "metadata": {
  "kernelspec": {
   "display_name": "Python 3",
   "language": "python",
   "name": "python3"
  },
  "language_info": {
   "codemirror_mode": {
    "name": "ipython",
    "version": 3
   },
   "file_extension": ".py",
   "mimetype": "text/x-python",
   "name": "python",
   "nbconvert_exporter": "python",
   "pygments_lexer": "ipython3",
   "version": "3.5.4"
  }
 },
 "nbformat": 4,
 "nbformat_minor": 2
}
