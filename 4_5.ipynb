{
 "cells": [
  {
   "cell_type": "markdown",
   "metadata": {},
   "source": [
    "# Assignment 4.5"
   ]
  },
  {
   "cell_type": "markdown",
   "metadata": {},
   "source": [
    "A die marked A to E is rolled 50 times. Find the probability of getting a “D” exactly 5\n",
    "times."
   ]
  },
  {
   "cell_type": "markdown",
   "metadata": {},
   "source": [
    "<h2>Solution</h2>"
   ]
  },
  {
   "cell_type": "markdown",
   "metadata": {},
   "source": [
    "Total number of ways to get \"D\" exactly 5 times = 50C5 \\* 1 \\* 4^45<br>\n",
    "Total number of ways to roll the die 50 times = 5^50<br>\n",
    "    \n",
    "    P(X = 5) = 50C5 * (1)^5 * 4^45/5^50\n",
    "           = 5 *49 * 4 * 47* 46 * 4^45 / 5^50\n",
    "           = 0.0295"
   ]
  }
 ],
 "metadata": {
  "kernelspec": {
   "display_name": "Python 3",
   "language": "python",
   "name": "python3"
  },
  "language_info": {
   "codemirror_mode": {
    "name": "ipython",
    "version": 3
   },
   "file_extension": ".py",
   "mimetype": "text/x-python",
   "name": "python",
   "nbconvert_exporter": "python",
   "pygments_lexer": "ipython3",
   "version": "3.5.4"
  }
 },
 "nbformat": 4,
 "nbformat_minor": 2
}
