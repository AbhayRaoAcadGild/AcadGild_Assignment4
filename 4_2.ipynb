{
 "cells": [
  {
   "cell_type": "markdown",
   "metadata": {},
   "source": [
    "# Assignment 4.2"
   ]
  },
  {
   "cell_type": "markdown",
   "metadata": {},
   "source": [
    "Find the variance for the following set of data representing trees in California (heights in\n",
    "feet):<br>\n",
    "3, 21, 98, 203, 17, 9"
   ]
  },
  {
   "cell_type": "markdown",
   "metadata": {},
   "source": [
    "<h2>Solution</h2>"
   ]
  },
  {
   "cell_type": "markdown",
   "metadata": {},
   "source": [
    "    x~ = 58.5\n",
    "    sum((xi-x~)^2)  = (-55.5)^2 + (-37.5)^2 + 39.5^2 + 144.5^2 + (-41.5)^2 +(-49.5)^2\n",
    "                    = 3080.25 + 1406.25 + 1560.25 + 20880.25 + 1722.25 + 2450.25\n",
    "                    = 31099.5\n",
    "    sum((xi-x~)^2)/(n-1) = 31099.5/5\n",
    "                         = 6219.9\n",
    "    s^2 = 6219.9\n",
    "    \n",
    "<b>Population Variance</b> = 31099.5/6 = 5183.25<br>\n",
    "<b>Sample Variance</b> = 6219.9"
   ]
  }
 ],
 "metadata": {
  "kernelspec": {
   "display_name": "Python 3",
   "language": "python",
   "name": "python3"
  },
  "language_info": {
   "codemirror_mode": {
    "name": "ipython",
    "version": 3
   },
   "file_extension": ".py",
   "mimetype": "text/x-python",
   "name": "python",
   "nbconvert_exporter": "python",
   "pygments_lexer": "ipython3",
   "version": "3.5.4"
  }
 },
 "nbformat": 4,
 "nbformat_minor": 2
}
