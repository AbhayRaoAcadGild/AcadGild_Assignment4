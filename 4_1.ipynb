{
 "cells": [
  {
   "cell_type": "markdown",
   "metadata": {},
   "source": [
    "# Assignment 4.1"
   ]
  },
  {
   "cell_type": "markdown",
   "metadata": {},
   "source": [
    "You survey households in your area to find the average rent they are paying. Find the\n",
    "standard deviation from the following data:<br>\n",
    "\n",
    "$1550, $1700, $900, $850, $1000, $950."
   ]
  },
  {
   "cell_type": "markdown",
   "metadata": {},
   "source": [
    "<h2>Solution</h2>"
   ]
  },
  {
   "cell_type": "markdown",
   "metadata": {},
   "source": [
    "    x~ = 1158.33\n",
    "    sum((xi - x~)^2) = 391.67^2 + 541.67^2 + (-258.33)^2 + (-308.33)^2 + (-158.33)^2 + (-208.33)^2\n",
    "                = 677083.33\n",
    "    sum((xi - x~)^2)/(n-1) = 135416.67\n",
    "    s = sqrt(135416.67) = 367.99\n",
    "    \n",
    "<b>Population Standard Deviation</b> = 335.93 <br>\n",
    "<b>Sample Standard Deviation</b> s = 367.99"
   ]
  },
  {
   "cell_type": "code",
   "execution_count": null,
   "metadata": {},
   "outputs": [],
   "source": []
  }
 ],
 "metadata": {
  "kernelspec": {
   "display_name": "Python 3",
   "language": "python",
   "name": "python3"
  },
  "language_info": {
   "codemirror_mode": {
    "name": "ipython",
    "version": 3
   },
   "file_extension": ".py",
   "mimetype": "text/x-python",
   "name": "python",
   "nbconvert_exporter": "python",
   "pygments_lexer": "ipython3",
   "version": "3.5.4"
  }
 },
 "nbformat": 4,
 "nbformat_minor": 2
}
